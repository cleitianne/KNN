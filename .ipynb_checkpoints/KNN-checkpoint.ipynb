{
 "cells": [
  {
   "cell_type": "markdown",
   "metadata": {},
   "source": [
    "## Imports"
   ]
  },
  {
   "cell_type": "code",
   "execution_count": 1,
   "metadata": {},
   "outputs": [],
   "source": [
    "import math"
   ]
  },
  {
   "cell_type": "markdown",
   "metadata": {},
   "source": [
    "## Base de dados (Parte 1)"
   ]
  },
  {
   "cell_type": "code",
   "execution_count": 2,
   "metadata": {},
   "outputs": [],
   "source": [
    "# A base \n",
    "amostras = []\n",
    "with open('dataset.data.txt', 'r') as f:\n",
    "    for linha in f.readlines():\n",
    "        #pois os dados estão separados por \",\"\n",
    "        atrib = linha.replace('\\n', '').split(',')\n",
    "        #atrib[0] == IDADE, atrib[1]== ANO da CIruGIA, atrib[2] == Número de nós, atrib[3] == Classe\n",
    "        amostras.append([int(atrib[0]), int(atrib[1]), int(atrib[2]), int(atrib[3])]) \n",
    "        "
   ]
  },
  {
   "cell_type": "markdown",
   "metadata": {},
   "source": [
    "## Distância Euclidiana (Parte 2)"
   ]
  },
  {
   "cell_type": "code",
   "execution_count": 3,
   "metadata": {},
   "outputs": [],
   "source": [
    "#Função que calcula a distância euclidiana entre as instâncias\n",
    "def dist_euclidiana(v1,v2):\n",
    "    dim, soma = len(v1), 0\n",
    "    for i in range(dim - 1): #pois o ultimo elemento da lista é a saida\n",
    "        soma += math.pow(v1[i] - v2[i],2)\n",
    "    return math.sqrt(soma)"
   ]
  },
  {
   "cell_type": "markdown",
   "metadata": {},
   "source": [
    "## KNN (Parte 3)"
   ]
  },
  {
   "cell_type": "code",
   "execution_count": 4,
   "metadata": {},
   "outputs": [],
   "source": [
    "def knn(treinamento, nova_amostra, k):\n",
    "    dists, tam_treino = {}, len(treinamento)\n",
    "    # calcula a distancia euclidiana  da nova amostra para todos os outros exemplos do conjunto de treinamento (PASSO 1)\n",
    "    for i in range(tam_treino):\n",
    "        d = dist_euclidiana(treinamento[i], nova_amostra)\n",
    "        dists[i] = d\n",
    "    #Pega o K vinhos mais próximos (PASSO 2)\n",
    "    k_vizinhos = sorted(dists, key=dists.get)[:k]\n",
    "    \n",
    "    #Avalia qual a classe mais presente entre os K vizinhos mais próximos (PASSO 3)\n",
    "    qtd_rotulo1, qtd_rotulo2 = 0, 0\n",
    "    for indice in k_vizinhos:\n",
    "        # Se o vizinho na posição indice tiver classe 1, o contador da classe 1 é incrementado\n",
    "        if treinamento[indice][-1] == 1:\n",
    "            qtd_rotulo1 += 1\n",
    "        # Se nãom o contador da classe 2 é implementado\n",
    "        else:\n",
    "            qtd_rotulo2 += 1\n",
    "            \n",
    "    # Avalia qual classe estava mais presente entre os k vizinhos mais próximos        \n",
    "    if qtd_rotulo1 > qtd_rotulo2:\n",
    "        return 1\n",
    "    else:\n",
    "        return 2"
   ]
  },
  {
   "cell_type": "markdown",
   "metadata": {},
   "source": [
    "## Testando o KNN com uma nova amostra (Parte 4)"
   ]
  },
  {
   "cell_type": "code",
   "execution_count": 5,
   "metadata": {},
   "outputs": [
    {
     "name": "stdout",
     "output_type": "stream",
     "text": [
      "1\n"
     ]
    }
   ],
   "source": [
    "#[Idade, Ano da Cirugia, Número de nós]\n",
    "print(knn(amostras, [55, 58, 0, 1], k=13))"
   ]
  },
  {
   "cell_type": "code",
   "execution_count": null,
   "metadata": {},
   "outputs": [],
   "source": []
  }
 ],
 "metadata": {
  "kernelspec": {
   "display_name": "Python 3",
   "language": "python",
   "name": "python3"
  },
  "language_info": {
   "codemirror_mode": {
    "name": "ipython",
    "version": 3
   },
   "file_extension": ".py",
   "mimetype": "text/x-python",
   "name": "python",
   "nbconvert_exporter": "python",
   "pygments_lexer": "ipython3",
   "version": "3.6.3"
  }
 },
 "nbformat": 4,
 "nbformat_minor": 2
}
